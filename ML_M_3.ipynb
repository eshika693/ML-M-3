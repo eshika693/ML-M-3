{
  "nbformat": 4,
  "nbformat_minor": 0,
  "metadata": {
    "colab": {
      "provenance": []
    },
    "kernelspec": {
      "name": "python3",
      "display_name": "Python 3"
    },
    "language_info": {
      "name": "python"
    }
  },
  "cells": [
    {
      "cell_type": "markdown",
      "source": [
        "Ques1)  What is Simple Linear Regression?"
      ],
      "metadata": {
        "id": "bdYL98Td7CXZ"
      }
    },
    {
      "cell_type": "markdown",
      "source": [
        "- Simple Linear Regression is a statistical method used to model the relationship between two variables: one independent variable (predictor) and one dependent variable (response). The method assumes a linear relationship between the two, represented by the equation\n",
        "\n",
        "y=mx+c, where\n",
        "\n",
        "y is the dependent variable,\n",
        "\n",
        "x is the independent variable,\n",
        "\n",
        "m is the slope of the line (representing the rate of change in y for a unit change in x), and c is the y-intercept (the value of y when x=0). Simple Linear Regression aims to find the line of best fit by minimizing the sum of squared differences between the observed values and the predicted values. It is commonly used for predicting outcomes, understanding relationships between variables, and determining trends in data."
      ],
      "metadata": {
        "id": "E1h4A9oS7NbY"
      }
    },
    {
      "cell_type": "markdown",
      "source": [
        "Ques2) What are the key assumptions of Simple Linear Regression?"
      ],
      "metadata": {
        "id": "vQtOgptb7rBF"
      }
    },
    {
      "cell_type": "markdown",
      "source": [
        "- Simple Linear Regression relies on several key assumptions to ensure the validity and accuracy of its results. These include:\n",
        "\n",
        "-  Linearity: There is a linear relationship between the independent variable and the dependent variable, meaning the changes in the dependent variable can be explained by a straight-line relationship with the independent variable.\n",
        "\n",
        "- Independence: The residuals (differences between observed and predicted values) are independent, meaning the outcome of one observation does not influence another.\n",
        "\n",
        "- Homoscedasticity: The residuals have constant variance across all levels of the independent variable, indicating that the spread of errors is consistent throughout the range of data.\n",
        "\n",
        "- Normality of Residuals: The residuals are normally distributed, which is important for making inferences about the regression coefficients.\n",
        "\n",
        "- No Multicollinearity: While this assumption primarily applies to multiple regression, in simple linear regression, it ensures there is no perfect correlation between independent variables (if multiple predictors are considered).\n",
        "\n",
        "- Violations of these assumptions can lead to biased or misleading results, requiring additional data transformation or alternative modeling approaches."
      ],
      "metadata": {
        "id": "-ThqOPxs7vZT"
      }
    },
    {
      "cell_type": "markdown",
      "source": [
        "Ques3) What does the coefficient m represent in the equation Y=mX+c?"
      ],
      "metadata": {
        "id": "H2uF_oT38AOD"
      }
    },
    {
      "cell_type": "markdown",
      "source": [
        "- In the equation Y=mX+c, the coefficient m represents the slope of the line, which indicates the rate of change in the dependent variable Y for a one-unit increase in the independent variable X. It quantifies the strength and direction of the relationship between X and Y. A positive m implies that as X increases, Y also increases, showing a direct relationship. Conversely, a negative m suggests that as X increases, Y decreases, indicating an inverse relationship. The magnitude of m reflects how steeply Y changes with X, with larger absolute values corresponding to steeper slopes."
      ],
      "metadata": {
        "id": "V8-n7tPV8Dkt"
      }
    },
    {
      "cell_type": "markdown",
      "source": [
        "Ques4) What does the intercept c represent in the equation Y=mX+c?"
      ],
      "metadata": {
        "id": "1nTHCpY-rHoa"
      }
    },
    {
      "cell_type": "markdown",
      "source": [
        "- In the equation Y=mX+c, the intercept c represents the point where the regression line crosses the Y-axis. It is the value of the dependent variable Y when the independent variable X is equal to zero. Essentially, c serves as the starting value of Y in the absence of any influence from\n",
        "X. The intercept provides context for the relationship modeled by the equation, helping to anchor the line on the graph. In real-world scenarios, c may represent a baseline value or fixed component of the dependent variable that is unaffected by changes in the independent variable.\n",
        "\n",
        "\n",
        "\n",
        "\n",
        "\n",
        "\n",
        "\n"
      ],
      "metadata": {
        "id": "3N1oVH9zrNSX"
      }
    },
    {
      "cell_type": "markdown",
      "source": [
        "Ques5) How do we calculate the slope m in Simple Linear Regression?"
      ],
      "metadata": {
        "id": "1FJr2x-areQT"
      }
    },
    {
      "cell_type": "markdown",
      "source": [
        "- In Simple Linear Regression, the slope m is calculated using the formula:\n"
      ],
      "metadata": {
        "id": "2zFuNNKgri-Q"
      }
    },
    {
      "cell_type": "markdown",
      "source": [
        "![Screenshot 2025-06-05 113248.png](data:image/png;base64,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)"
      ],
      "metadata": {
        "id": "IhblWfaor_C9"
      }
    },
    {
      "cell_type": "markdown",
      "source": [
        "Ques6) What is the purpose of the least squares method in Simple Linear Regression?"
      ],
      "metadata": {
        "id": "LpyVgwz_sPOZ"
      }
    },
    {
      "cell_type": "markdown",
      "source": [
        "- The purpose of the least squares method in Simple Linear Regression is to find the line of best fit that minimizes the discrepancies between the observed data points and the predictions made by the regression model. Specifically, it minimizes the sum of the squared residuals, where a residual is the difference between an observed value and the corresponding predicted value on the regression line. By squaring the residuals, the method ensures that positive and negative differences do not cancel each other out and gives greater weight to larger discrepancies. This optimization process results in a line that best captures the overall trend in the data, providing the most accurate predictions and insights about the relationship between the independent and dependent variables.\n",
        "\n",
        "\n",
        "\n",
        "\n",
        "\n",
        "\n",
        "\n",
        "\n"
      ],
      "metadata": {
        "id": "GQ1O2XkgsXbj"
      }
    },
    {
      "cell_type": "markdown",
      "source": [
        "Ques7) How is the coefficient of determination (R²) interpreted in Simple Linear Regression?"
      ],
      "metadata": {
        "id": "OVaLIny4sYam"
      }
    },
    {
      "cell_type": "markdown",
      "source": [
        "- In Simple Linear Regression, the coefficient of determination (\n",
        "R²) is a statistical measure that explains the proportion of the variance in the dependent variable (Y) that is accounted for by the independent variable (X). It is calculated as:"
      ],
      "metadata": {
        "id": "ypZ6W8lmsbYj"
      }
    },
    {
      "cell_type": "markdown",
      "source": [
        "![Screenshot 2025-06-05 114228.png](data:image/png;base64,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)"
      ],
      "metadata": {
        "id": "LlgQfv4UuAnQ"
      }
    },
    {
      "cell_type": "markdown",
      "source": [
        "- Here:\n",
        "\n",
        "- SSresidual is the sum of squared residuals (differences between observed and predicted values).\n",
        "\n",
        "- SStotal is the total sum of squares (differences between observed values and their mean).\n",
        "\n",
        "- An R² value ranges from 0 to 1:\n",
        "\n",
        "- A value close to 1 indicates that a large proportion of the variance in\n",
        "Y is explained by X, implying a strong linear relationship.\n",
        "\n",
        "- A value close to 0 suggests that X explains little to none of the variance in Y, indicating a weak or no linear relationship."
      ],
      "metadata": {
        "id": "CoF46OEEuF74"
      }
    },
    {
      "cell_type": "markdown",
      "source": [
        "Ques8) What is Multiple Linear Regression?"
      ],
      "metadata": {
        "id": "Azges2z7uUKY"
      }
    },
    {
      "cell_type": "markdown",
      "source": [
        "- Multiple Linear Regression is a statistical method used to model the relationship between one dependent variable and two or more independent variables. It extends the concept of Simple Linear Regression by incorporating multiple predictors to better explain the variance in the dependent variable."
      ],
      "metadata": {
        "id": "q9wCWLzZuzCO"
      }
    },
    {
      "cell_type": "markdown",
      "source": [
        "Ques9)  What is the main difference between Simple and Multiple Linear Regression?"
      ],
      "metadata": {
        "id": "itrRC7RYu4u2"
      }
    },
    {
      "cell_type": "markdown",
      "source": [
        "- The main difference between Simple and Multiple Linear Regression lies in the number of independent variables used to explain the dependent variable. Simple Linear Regression involves only one independent variable to predict the dependent variable, while Multiple Linear Regression incorporates two or more independent variables.\n",
        "- The additional variables in Multiple Linear Regression allow for a more comprehensive understanding of the factors influencing the dependent variable, potentially improving predictive accuracy and capturing complex relationships. However, it also increases model complexity and the risk of multicollinearity, requiring careful analysis and validation.\n",
        "\n",
        "\n",
        "\n",
        "\n",
        "\n",
        "\n",
        "\n",
        "\n"
      ],
      "metadata": {
        "id": "dRvSZSYXu8e1"
      }
    },
    {
      "cell_type": "markdown",
      "source": [
        "Ques10) What are the key assumptions of Multiple Linear Regression?"
      ],
      "metadata": {
        "id": "H6BW7TgrvFh9"
      }
    },
    {
      "cell_type": "markdown",
      "source": [
        "- Multiple Linear Regression relies on several key assumptions to ensure the validity and reliability of the model's results:\n",
        "\n",
        "- Linearity: The relationship between the dependent variable and each independent variable is linear.\n",
        "\n",
        "- Independence: The residuals (errors) are independent, meaning the observations are not correlated.\n",
        "\n",
        "- Homoscedasticity: The variance of the residuals is constant across all levels of the independent variables.\n",
        "\n",
        "- Normality of Residuals: The residuals are normally distributed, especially important for hypothesis testing and constructing confidence intervals.\n",
        "\n",
        "- No Multicollinearity: The independent variables are not highly correlated with each other, as multicollinearity can distort the estimation of coefficients.\n",
        "\n",
        "- Model Specification: The model includes all relevant variables and excludes irrelevant ones, ensuring an accurate representation of the relationship.\n",
        "\n",
        "- Violations of these assumptions can lead to biased coefficients, unreliable predictions, or invalid inferences, necessitating diagnostic checks and potential adjustments to the model."
      ],
      "metadata": {
        "id": "-bq-G4XkvJer"
      }
    },
    {
      "cell_type": "markdown",
      "source": [
        "Ques11)  What is heteroscedasticity, and how does it affect the results of a Multiple Linear Regression model?"
      ],
      "metadata": {
        "id": "trgrNQ8TvWYk"
      }
    },
    {
      "cell_type": "markdown",
      "source": [
        "- Heteroscedasticity occurs when the variance of the residuals in a Multiple Linear Regression model is not constant across all levels of the independent variables. In other words, the spread of the residuals changes, creating a pattern or funnel shape in a residuals-versus-predicted values plot.\n",
        "\n",
        "- This violates the assumption of homoscedasticity, which states that residuals should have equal variance. Heteroscedasticity affects the results of a Multiple Linear Regression model by:\n",
        "\n",
        "- Biasing Standard Errors: This can lead to incorrect confidence intervals and hypothesis tests, making the model's statistical significance unreliable.\n",
        "\n",
        "- Reduced Model Efficiency: Unequal variance can make the regression coefficients less precise.\n",
        "\n",
        "- Misleading Predictions: The model may underperform in areas where the residuals exhibit larger variance.\n",
        "\n",
        "- To address heteroscedasticity, analysts can transform the dependent variable, apply weighted least squares regression, or use robust standard errors to adjust for the unequal variance."
      ],
      "metadata": {
        "id": "yRG5_cXHvaGc"
      }
    },
    {
      "cell_type": "markdown",
      "source": [
        "Ques12)  How can you improve a Multiple Linear Regression model with high multicollinearity?"
      ],
      "metadata": {
        "id": "az9RvL-kvjze"
      }
    },
    {
      "cell_type": "markdown",
      "source": [
        "- To improve a Multiple Linear Regression model with high multicollinearity, you can apply the following techniques:\n",
        "\n",
        "- Remove Redundant Variables: Identify and eliminate one or more highly correlated independent variables that provide overlapping information.\n",
        "\n",
        "- Combine Variables: Create composite variables or indices by combining highly correlated predictors into a single variable.\n",
        "\n",
        "- Regularization Techniques: Use methods like Ridge Regression or Lasso Regression, which add penalties to the regression coefficients to reduce the impact of multicollinearity.\n",
        "\n",
        "- Principal Component Analysis (PCA): Transform the original variables into a set of uncorrelated components, and use these components in the regression model.\n",
        "\n",
        "- Increase Sample Size: Collect more data if possible, as a larger dataset can mitigate the effects of multicollinearity on coefficient estimates.\n",
        "\n",
        "- Variance Inflation Factor (VIF) Analysis: Identify variables with high VIF values and consider removing or transforming them to reduce multicollinearity.\n",
        "\n",
        "- Centering the Variables: Mean-center the independent variables by subtracting their means, which can reduce multicollinearity caused by interaction terms or polynomial features.\n",
        "\n",
        "- Applying these methods can improve the stability and interpretability of the regression model while preserving its predictive power.\n",
        "\n",
        "\n",
        "\n",
        "\n",
        "\n",
        "\n",
        "\n",
        "\n"
      ],
      "metadata": {
        "id": "n0UCvyQ9vnJt"
      }
    },
    {
      "cell_type": "markdown",
      "source": [
        "Ques13) What are some common techniques for transforming categorical variables for use in regression models?"
      ],
      "metadata": {
        "id": "TAHiO-8fvzlG"
      }
    },
    {
      "cell_type": "markdown",
      "source": [
        "- When using regression models, categorical variables need to be transformed into numerical representations. Common techniques for this include:\n",
        "\n",
        "- One-Hot Encoding: Converts each category into a binary column, where each column represents a category and contains 1 for rows belonging to that category and 0 otherwise. It is commonly used when categories are nominal (no inherent order).\n",
        "\n",
        "- Label Encoding: Assigns a unique integer to each category. While simple, it may introduce an unintended ordinal relationship, making it less suitable for nominal categories.\n",
        "\n",
        "- Ordinal Encoding: Maps categories to integers based on their inherent order. Suitable for ordinal data where the categories have a meaningful ranking.\n",
        "\n",
        "- Binary Encoding: Converts categories to binary code, reducing the dimensionality compared to one-hot encoding while preserving uniqueness.\n",
        "\n",
        "- Frequency Encoding: Replaces each category with the frequency or proportion of its occurrence in the dataset, which can be useful in large datasets.\n",
        "\n",
        "- Target Encoding: Maps each category to the mean of the target variable for that category. It is useful for categorical variables with many levels but can lead to overfitting without proper regularization.\n",
        "\n",
        "- Embedding Layers: In advanced models (e.g., neural networks), categorical variables can be embedded into dense vector representations, capturing complex relationships.\n",
        "\n",
        "- The choice of technique depends on the nature of the categorical variable, the dataset size, and the specific requirements of the regression model."
      ],
      "metadata": {
        "id": "RcDYrIWUv2vk"
      }
    },
    {
      "cell_type": "markdown",
      "source": [
        "Ques14) What is the role of interaction terms in Multiple Linear Regression?"
      ],
      "metadata": {
        "id": "_JOpWggMwDDt"
      }
    },
    {
      "cell_type": "markdown",
      "source": [
        "- In Multiple Linear Regression, interaction terms capture the combined effect of two or more independent variables on the dependent variable that is not explained by their individual effects alone. An interaction term is created by multiplying two predictor variables, allowing the model to account for situations where the influence of one variable on the outcome depends on the level of another variable. Including interaction terms helps reveal more complex relationships and can improve the model’s accuracy and interpretability by reflecting how variables work together rather than independently. Without interaction terms, the model assumes that the effect of each predictor on the response is additive and separate, potentially missing important dynamics present in the data."
      ],
      "metadata": {
        "id": "fA-wg6nfwG-6"
      }
    },
    {
      "cell_type": "markdown",
      "source": [
        "Ques15)  How can the interpretation of intercept differ between Simple and Multiple Linear Regression?"
      ],
      "metadata": {
        "id": "iD6OPWVhwNOZ"
      }
    },
    {
      "cell_type": "markdown",
      "source": [
        "- The interpretation of the intercept in Simple and Multiple Linear Regression differs mainly due to the number of predictors involved. In Simple Linear Regression, the intercept represents the expected value of the dependent variable when the single independent variable is zero. It provides a straightforward baseline since there is only one predictor.\n",
        "\n",
        "In Multiple Linear Regression, however, the intercept represents the expected value of the dependent variable when all independent variables are simultaneously zero. Because this scenario might not always be meaningful or realistic—especially if zero is outside the observed range for some predictors—the intercept can sometimes lack a practical interpretation. Instead, it primarily serves as a mathematical baseline to anchor the regression plane within the multidimensional predictor space."
      ],
      "metadata": {
        "id": "l9OExjOCwQwX"
      }
    },
    {
      "cell_type": "markdown",
      "source": [
        "Ques16)  What is the significance of the slope in regression analysis, and how does it affect predictions?"
      ],
      "metadata": {
        "id": "kOgUikO8wVZE"
      }
    },
    {
      "cell_type": "markdown",
      "source": [
        "- The slope in regression analysis is significant because it quantifies the relationship between the independent variable(s) and the dependent variable, indicating how much the dependent variable is expected to change for a one-unit increase in the predictor. In simple regression, the slope shows the direct effect of a single predictor, while in multiple regression, each slope coefficient reflects the effect of one predictor while holding others constant. The slope affects predictions by determining the direction and magnitude of change in the outcome variable—positive slopes indicate that increases in the predictor lead to increases in the response, while negative slopes indicate a decrease. Accurate estimation of slopes is essential for reliable predictions, as they shape the regression line or plane that models the data trend and guides future forecasts.\n",
        "\n",
        "\n",
        "\n",
        "\n",
        "\n",
        "\n",
        "\n",
        "\n"
      ],
      "metadata": {
        "id": "Mp3Gh0Q8wZ5f"
      }
    },
    {
      "cell_type": "markdown",
      "source": [
        "Ques17) How does the intercept in a regression model provide context for the relationship between variables?"
      ],
      "metadata": {
        "id": "n9I9CQ4iweEA"
      }
    },
    {
      "cell_type": "markdown",
      "source": [
        "- The intercept in a regression model provides important context by representing the expected value of the dependent variable when all independent variables are zero. It acts as a baseline or starting point for the relationship, anchoring the regression line or plane within the data space. This helps in understanding where the model predicts the outcome to begin before considering the influence of the predictors. Although the intercept may sometimes lack practical meaning—especially if zero is outside the range of observed data—it remains crucial for defining the full equation of the regression model and ensuring accurate predictions across the range of variables.\n",
        "\n",
        "\n",
        "\n",
        "\n",
        "\n",
        "\n",
        "\n",
        "\n"
      ],
      "metadata": {
        "id": "WG-KXuJZwhfJ"
      }
    },
    {
      "cell_type": "markdown",
      "source": [
        "Ques18) What are the limitations of using R² as a sole measure of model performance?"
      ],
      "metadata": {
        "id": "vmdimIPEwl7q"
      }
    },
    {
      "cell_type": "markdown",
      "source": [
        "- Using\n",
        "R²\n",
        "  as the sole measure of model performance has several limitations. While\n",
        "R²\n",
        "  indicates the proportion of variance in the dependent variable explained by the model, it does not assess whether the model is appropriate or whether the relationships are causal. A high\n",
        "R² value can be misleading, especially if the model is overfitting the data by capturing noise rather than meaningful patterns. Additionally,\n",
        "R²\n",
        "  does not account for the number of predictors in the model, so adding more variables—even irrelevant ones—can artificially inflate it. It also does not provide information about prediction accuracy on new, unseen data or about whether the assumptions of regression are met. Therefore, relying solely on\n",
        "R²\n",
        "  ignores other important diagnostic checks and evaluation metrics necessary for robust model assessment.\n",
        "\n",
        "\n",
        "\n",
        "\n",
        "\n",
        "\n",
        "\n",
        "\n"
      ],
      "metadata": {
        "id": "qCMBJny4wpJh"
      }
    },
    {
      "cell_type": "markdown",
      "source": [
        "Ques19) - How would you interpret a large standard error for a regression coefficient?"
      ],
      "metadata": {
        "id": "bTAnuelcw0Rq"
      }
    },
    {
      "cell_type": "markdown",
      "source": [
        "- A large standard error for a regression coefficient indicates that there is considerable uncertainty or variability in the estimate of that coefficient. This means the true effect of the corresponding independent variable on the dependent variable is not precisely determined by the data. A high standard error often suggests that the coefficient may not be statistically significant, making it difficult to confidently conclude that the predictor has a meaningful impact. It can arise due to factors such as small sample size, high variability in the data, or multicollinearity with other predictors. Ultimately, a large standard error weakens the reliability of the coefficient estimate and calls for caution when interpreting its influence in the regression model.\n",
        "\n",
        "\n",
        "\n",
        "\n",
        "\n",
        "\n",
        "\n",
        "\n"
      ],
      "metadata": {
        "id": "7hnSacQiw4g1"
      }
    },
    {
      "cell_type": "markdown",
      "source": [
        "Ques20) How can heteroscedasticity be identified in residual plots, and why is it important to address it?"
      ],
      "metadata": {
        "id": "SqfC8tNhw9OR"
      }
    },
    {
      "cell_type": "markdown",
      "source": [
        "- Heteroscedasticity can be identified in residual plots by observing patterns where the spread of residuals changes with the predicted values or an independent variable. Instead of a random, evenly scattered cloud of points around zero, the residuals may fan out or funnel in, showing increasing or decreasing variance. This unequal spread violates the assumption of constant variance (homoscedasticity) in regression models. Addressing heteroscedasticity is important because it can lead to inefficient and biased estimates of standard errors, which in turn affect confidence intervals and hypothesis tests, making them unreliable. Correcting for heteroscedasticity ensures more accurate statistical inference and improves the overall validity and robustness of the regression model.\n",
        "\n",
        "\n",
        "\n",
        "\n",
        "\n",
        "\n",
        "\n",
        "\n"
      ],
      "metadata": {
        "id": "k6OByvayxAd-"
      }
    },
    {
      "cell_type": "markdown",
      "source": [
        "Ques21) What does it mean if a Multiple Linear Regression model has a high R² but low adjusted R²?"
      ],
      "metadata": {
        "id": "3dR7fJkHxFJh"
      }
    },
    {
      "cell_type": "markdown",
      "source": [
        "- If a Multiple Linear Regression model has a high\n",
        "R²\n",
        "  but a low adjusted\n",
        "R²\n",
        " , it suggests that while the model explains a large proportion of the variance in the dependent variable, many of the included predictors may not contribute meaningful explanatory power. The adjusted\n",
        "R²\n",
        "  adjusts for the number of predictors relative to the sample size, penalizing the addition of irrelevant or redundant variables. Therefore, a low adjusted\n",
        "R²\n",
        "  compared to a high\n",
        "R²\n",
        "  indicates possible overfitting, where the model is too complex and captures noise rather than true relationships. This discrepancy highlights the importance of using adjusted\n",
        "R²\n",
        "  to evaluate model quality, as it provides a more balanced measure that discourages unnecessary complexity.\n",
        "\n",
        "\n",
        "\n",
        "\n",
        "\n",
        "\n",
        "\n",
        "\n"
      ],
      "metadata": {
        "id": "A3st0iXOxJMy"
      }
    },
    {
      "cell_type": "markdown",
      "source": [
        "Ques22) Why is it important to scale variables in Multiple Linear Regression?"
      ],
      "metadata": {
        "id": "ApxhhNp-xZoF"
      }
    },
    {
      "cell_type": "markdown",
      "source": [
        "- Scaling variables in Multiple Linear Regression is important because it ensures that all predictors are on a comparable scale, which can improve the model’s stability and interpretability. When variables have vastly different units or ranges, the coefficients can become difficult to compare, and numerical issues may arise during the estimation process, especially in algorithms that rely on gradient-based optimization. Scaling also helps in detecting and managing multicollinearity and enhances the performance of regularization techniques like Ridge and Lasso regression by ensuring that penalties are applied fairly across all variables. Overall, scaling contributes to more reliable coefficient estimates and more efficient, stable model training.\n",
        "\n",
        "\n",
        "\n",
        "\n",
        "\n",
        "\n",
        "\n",
        "\n"
      ],
      "metadata": {
        "id": "ow1rmzUJxc3C"
      }
    },
    {
      "cell_type": "markdown",
      "source": [
        "Ques23) What is polynomial regression?"
      ],
      "metadata": {
        "id": "Wqsh4F3SxhDV"
      }
    },
    {
      "cell_type": "markdown",
      "source": [
        "- Polynomial regression is an extension of linear regression that models the relationship between the independent variable(s) and the dependent variable as an n-th degree polynomial rather than a straight line. Instead of fitting a simple linear equation, polynomial regression fits curves by including powers of the predictor variable.This allows it to capture more complex, nonlinear patterns in the data that a simple linear model cannot. Despite modeling nonlinear relationships, polynomial regression is still considered a type of linear regression because it is linear in the coefficients. It is useful when the relationship between variables is curved or follows a specific polynomial trend, improving the model’s flexibility and accuracy.\n",
        "\n",
        "\n",
        "\n",
        "\n",
        "\n",
        "\n",
        "\n",
        "\n"
      ],
      "metadata": {
        "id": "ewuNjXuixkDX"
      }
    },
    {
      "cell_type": "markdown",
      "source": [
        "Ques24)  How does polynomial regression differ from linear regression?"
      ],
      "metadata": {
        "id": "G2jYTSxdxuic"
      }
    },
    {
      "cell_type": "markdown",
      "source": [
        "- Polynomial regression differs from linear regression primarily in the form of the relationship it models between the independent and dependent variables. While linear regression assumes a straight-line (linear) relationship, polynomial regression allows for curved, nonlinear relationships by including higher-degree terms of the predictor variable(s), such as squares or cubes. This enables polynomial regression to fit data patterns that bend or change direction, capturing more complex trends. Despite this, polynomial regression is still considered linear in terms of the coefficients, meaning it can be estimated using similar techniques. In summary, polynomial regression provides greater flexibility to model nonlinear relationships, whereas linear regression is limited to straight-line fits."
      ],
      "metadata": {
        "id": "RpN4KANPxyjU"
      }
    },
    {
      "cell_type": "markdown",
      "source": [
        "Ques25) When is polynomial regression used?"
      ],
      "metadata": {
        "id": "CZ6AHBLKx350"
      }
    },
    {
      "cell_type": "markdown",
      "source": [
        "- Polynomial regression is used when the relationship between the independent variable(s) and the dependent variable is nonlinear and cannot be adequately captured by a simple linear model. It is particularly useful when data shows curves, bends, or more complex patterns that suggest the effect of the predictor changes at different levels rather than remaining constant. For example, it can model growth rates, acceleration, or seasonal trends where increases or decreases happen at varying speeds. By incorporating polynomial terms, the model becomes flexible enough to fit these nonlinear trends more accurately, improving prediction and understanding of the underlying relationship without needing to switch to more complex nonlinear models."
      ],
      "metadata": {
        "id": "CxjejcNcx6-V"
      }
    },
    {
      "cell_type": "markdown",
      "source": [
        "Ques26)  What is the general equation for polynomial regression?"
      ],
      "metadata": {
        "id": "lxk5sphAx_Ws"
      }
    },
    {
      "cell_type": "markdown",
      "source": [
        "- The general equation for polynomial regression expresses the dependent variable as a function of the independent variable raised to multiple powers, allowing the model to capture nonlinear relationships. For a single predictor variable X, the equation can be written as:"
      ],
      "metadata": {
        "id": "5zArDuoAyC2x"
      }
    },
    {
      "cell_type": "markdown",
      "source": [
        "![Screenshot 2025-06-05 120030.png](data:image/png;base64,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)"
      ],
      "metadata": {
        "id": "5creNkakyJdv"
      }
    },
    {
      "cell_type": "markdown",
      "source": [
        "- Here,\n",
        "Y is the dependent variable,\n",
        "b0 ​is the intercept,\n",
        "𝑏\n",
        "1\n",
        ",\n",
        "𝑏\n",
        "2\n",
        ",\n",
        "…\n",
        ",\n",
        "𝑏\n",
        "𝑛\n",
        "  are the coefficients corresponding to each power of\n",
        "X,\n",
        "n is the degree of the polynomial, and\n",
        "ε represents the error term. This equation generalizes linear regression by including higher-degree terms, enabling the model to fit curves and more complex patterns in the data."
      ],
      "metadata": {
        "id": "MS7mf9MYyPF-"
      }
    },
    {
      "cell_type": "markdown",
      "source": [
        "Ques27)Can polynomial regression be applied to multiple variables?"
      ],
      "metadata": {
        "id": "QdOrhtkcyjM1"
      }
    },
    {
      "cell_type": "markdown",
      "source": [
        "- Yes, polynomial regression can be applied to multiple variables, extending the concept of polynomial terms to a multivariate context. In this case, the model includes not only the original predictor variables but also their higher-degree powers and interaction terms between variables."
      ],
      "metadata": {
        "id": "o987R4ayynMq"
      }
    },
    {
      "cell_type": "markdown",
      "source": [
        "Ques28) What are the limitations of polynomial regression?"
      ],
      "metadata": {
        "id": "XHExvJ3Dys8f"
      }
    },
    {
      "cell_type": "markdown",
      "source": [
        "- Polynomial regression, while powerful for modeling nonlinear relationships, has several limitations. One major issue is the risk of overfitting, especially with high-degree polynomials, where the model may fit the training data very closely but perform poorly on new data. This can lead to excessive complexity and sensitivity to small fluctuations or noise in the data. Additionally, polynomial regression can suffer from multicollinearity because higher-degree terms are often highly correlated with lower-degree terms, making coefficient estimates unstable. The model’s interpretability also decreases as the polynomial degree increases, making it harder to understand the effect of individual predictors. Finally, polynomial regression assumes a smooth, continuous relationship and may not perform well if the true relationship is irregular or involves abrupt changes."
      ],
      "metadata": {
        "id": "9stui9xvyxcV"
      }
    },
    {
      "cell_type": "markdown",
      "source": [
        "Ques29) What methods can be used to evaluate model fit when selecting the degree of a polynomial?"
      ],
      "metadata": {
        "id": "ImKUaS-Ey28N"
      }
    },
    {
      "cell_type": "markdown",
      "source": [
        "- When selecting the degree of a polynomial in regression, several methods can be used to evaluate model fit and avoid overfitting. Common approaches include cross-validation, where the data is split into training and testing sets to assess how well the model generalizes to unseen data. Adjusted R² is another metric that accounts for the number of predictors and helps balance model complexity with explanatory power. Information criteria like Akaike Information Criterion (AIC) and Bayesian Information Criterion (BIC) provide measures that penalize excessive complexity while rewarding goodness of fit. Visual inspection of residual plots can reveal patterns indicating underfitting or overfitting. Ultimately, combining these methods helps select a polynomial degree that captures the true underlying trend without fitting noise, ensuring a robust and interpretable model.\n",
        "\n",
        "\n",
        "\n",
        "\n",
        "\n",
        "\n",
        "\n",
        "\n"
      ],
      "metadata": {
        "id": "BXW2uvxWy50Q"
      }
    },
    {
      "cell_type": "markdown",
      "source": [
        "Ques30) Why is visualization important in polynomial regression?"
      ],
      "metadata": {
        "id": "5pICstLVy-qM"
      }
    },
    {
      "cell_type": "markdown",
      "source": [
        "- Visualization is important in polynomial regression because it helps to understand the nature of the relationship between variables and assess how well the model fits the data. By plotting the data points alongside the fitted polynomial curve, one can easily see whether the chosen degree of the polynomial captures the underlying trend or if it leads to overfitting or underfitting. Visualization also reveals patterns in residuals that might indicate model inadequacies, such as systematic errors or heteroscedasticity. Additionally, graphical representation makes it easier to communicate results and insights to others, especially when explaining complex nonlinear relationships that are difficult to interpret through coefficients alone. Overall, visualization is a crucial tool for diagnosing, validating, and interpreting polynomial regression models."
      ],
      "metadata": {
        "id": "p46vVqIAzC7R"
      }
    },
    {
      "cell_type": "markdown",
      "source": [
        "Ques31) How is polynomial regression implemented in Python?"
      ],
      "metadata": {
        "id": "pzDXuFObzHSP"
      }
    },
    {
      "cell_type": "markdown",
      "source": [
        "- Polynomial regression in Python is typically implemented by transforming the original input features into polynomial features using libraries like scikit-learn. The process starts with importing the PolynomialFeatures class, which generates new features by raising the original variables to specified powers and creating interaction terms. These transformed features are then used with a linear regression model (LinearRegression) to fit the polynomial relationship. The workflow involves creating a pipeline or manually applying the polynomial transformation to the input data, fitting the linear model on these expanded features, and then using the model to make predictions. This approach leverages the simplicity of linear regression while allowing for nonlinear patterns, making polynomial regression straightforward and efficient to implement in Python.\n",
        "\n",
        "\n",
        "\n",
        "\n",
        "\n",
        "\n",
        "\n",
        "\n"
      ],
      "metadata": {
        "id": "fdEtpJbfzMCS"
      }
    }
  ]
}